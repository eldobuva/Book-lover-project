{
 "cells": [
  {
   "cell_type": "code",
   "execution_count": null,
   "metadata": {},
   "outputs": [],
   "source": [
    "#Lesson 5.9 Book Lover Python Unit Testing\n",
    "# Craig Dober cd6ck\n",
    "# Aaron Oliver ao9au\n",
    "# Ali Moradkhany am4hb"
   ]
  },
  {
   "cell_type": "code",
   "execution_count": null,
   "metadata": {},
   "outputs": [],
   "source": [
    "# Import Base Class with all functions\n",
    "import unittest\n",
    "\n",
    "from BookLoverProject import *\n",
    "\n",
    "class __init__TestCase(unittest.TestCase): # inherit from unittest.TestCase\n",
    "    # Unit testing add name in BookloverProject.py\n",
    "    \n",
    "    def test_add_baseinfo_name_correctly(self):\n",
    "        # Is initializion adding name correctly?\n",
    "\n",
    "        # Create Reader\n",
    "        r1 = BookLover('Ali', 'am4hb@virginia.edu', 'Fiction') \n",
    "             \n",
    "        # Test\n",
    "        self.assertEqual(r1.name, 'Ali')\n",
    "        \n",
    "                   \n",
    "if __name__ == '__main__':\n",
    "    unittest.main(argv=['first-arg-is-ignored'],exit=False)\n",
    "    #unittest.main(argv=['first-arg-is-ignored'],exit=False)        \n",
    "        "
   ]
  },
  {
   "cell_type": "code",
   "execution_count": null,
   "metadata": {},
   "outputs": [],
   "source": [
    "# Import Base Class with all functions\n",
    "import unittest\n",
    "\n",
    "from BookLoverProject import *\n",
    "\n",
    "class __init__TestCase(unittest.TestCase): # inherit from unittest.TestCase\n",
    "    # Unit testing add genre in BookloverProject.py\n",
    "    \n",
    "    def test_add_baseinfo_genre_correctly(self):\n",
    "        # Is initializion adding genre correctly?\n",
    "\n",
    "        # Create Reader\n",
    "        r1 = BookLover('Ali', 'am4hb@virginia.edu', 'Fiction') \n",
    "             \n",
    "        # Test\n",
    "        self.assertEqual(r1.favGenre, 'Fiction')\n",
    "        \n",
    "                   \n",
    "if __name__ == '__main__':\n",
    "    unittest.main(argv=['first-arg-is-ignored'],exit=False)        "
   ]
  },
  {
   "cell_type": "code",
   "execution_count": null,
   "metadata": {},
   "outputs": [],
   "source": [
    "# Import Base Class with all functions\n",
    "import unittest\n",
    "\n",
    "from BookLoverProject import *\n",
    "\n",
    "class AddBookTestCase(unittest.TestCase): # inherit from unittest.TestCase\n",
    "    # Unit testing add book in BookloverProject.py\n",
    "    \n",
    "    def test_add_bookname_correctly(self):\n",
    "        # Is add book correctly adding book name and rating?  Need to clear kernal to make sure list is empty\n",
    "\n",
    "        # Create Reader\n",
    "        r1 = BookLover('Ali', 'am4hb@virginia.edu', 'Fiction')\n",
    "        #bookLst=[]\n",
    "        r1.addBook()\n",
    "        r1.addBook()\n",
    "        r1.addBook()        \n",
    "             \n",
    "        # Test\n",
    "        self.assertEqual(r1.bookLst, [('book1', 1), ('book2', 2), ('book3', 5)])\n",
    "        \n",
    "                   \n",
    "if __name__ == '__main__':\n",
    "    unittest.main(argv=['first-arg-is-ignored'],exit=False)        "
   ]
  },
  {
   "cell_type": "code",
   "execution_count": null,
   "metadata": {},
   "outputs": [],
   "source": [
    "## Import Base Class with all functions\n",
    "import unittest\n",
    "\n",
    "from BookLoverProject import *\n",
    "\n",
    "class NumBooksReadTestCase(unittest.TestCase): # inherit from unittest.TestCase\n",
    "    # Unit testing count number of books in BookloverProject.py\n",
    "    \n",
    "    def test_number_counter_correctly(self):\n",
    "        # Does number counter add correcly? Restart kernal\n",
    "\n",
    "        # Create Reader\n",
    "        r1 = BookLover('Ali', 'am4hb@virginia.edu', 'Fiction')\n",
    "        r1.addBook()\n",
    "        r1.addBook()\n",
    "           \n",
    "    \n",
    "        # Test\n",
    "        self.assertEqual(r1.numBooks, 2)\n",
    "        \n",
    "                   \n",
    "if __name__ == '__main__':\n",
    "    unittest.main(argv=['first-arg-is-ignored'],exit=False)        "
   ]
  },
  {
   "cell_type": "code",
   "execution_count": null,
   "metadata": {},
   "outputs": [],
   "source": [
    "## Import Base Class with all functions\n",
    "import unittest\n",
    "\n",
    "from BookLoverProject import *\n",
    "\n",
    "class FavBooksTestCase(unittest.TestCase): # inherit from unittest.TestCase\n",
    "    # Unit testing count number of books in BookloverProject.py\n",
    "    \n",
    "    def test_fav_books_increase_correctly(self):\n",
    "        # Does favorite books add for a 4 or 5? Restart kernal\n",
    "\n",
    "        # Create Reader\n",
    "        r1 = BookLover('Ali', 'am4hb@virginia.edu', 'Fiction')\n",
    "        r1.addBook() # Enter book with rating of 4 or 5\n",
    "        r1.addBook() # Enter book with rating of 4 or 5\n",
    "    \n",
    "        # Test\n",
    "        self.assertEqual(r1.favBooks(), ['book1', 'book2'])\n",
    "        \n",
    "                   \n",
    "if __name__ == '__main__':\n",
    "    unittest.main(argv=['first-arg-is-ignored'],exit=False)        "
   ]
  },
  {
   "cell_type": "code",
   "execution_count": null,
   "metadata": {},
   "outputs": [],
   "source": [
    "## Import Base Class with all functions\n",
    "import unittest\n",
    "\n",
    "from BookLoverProject import *\n",
    "\n",
    "class FavBooksTestCase(unittest.TestCase): # inherit from unittest.TestCase\n",
    "    # Unit testing count number of books in BookloverProject.py\n",
    "    \n",
    "    def test_fav_books_increase_correctly(self):\n",
    "        # Does favorite books not add for a 1 thru 3? Restart kernal\n",
    "\n",
    "        # Create Reader\n",
    "        r1 = BookLover('Ali', 'am4hb@virginia.edu', 'Fiction')\n",
    "        r1.addBook() # Enter book with rating of 1, 2 or 3\n",
    "        r1.addBook() # Enter book with rating of 1, 2 or 3\n",
    "    \n",
    "        # Test\n",
    "        self.assertEqual(r1.favBooks(), [])\n",
    "        \n",
    "                   \n",
    "if __name__ == '__main__':\n",
    "    unittest.main(argv=['first-arg-is-ignored'],exit=False)        "
   ]
  },
  {
   "cell_type": "code",
   "execution_count": null,
   "metadata": {},
   "outputs": [],
   "source": [
    "## Import Base Class with all functions\n",
    "import unittest\n",
    "\n",
    "from BookLoverProject import *\n",
    "\n",
    "class HasReadTestCase(unittest.TestCase): # inherit from unittest.TestCase\n",
    "    # Unit testing count number of books in BookloverProject.py\n",
    "    \n",
    "    def test_has_read_true_correctly(self):\n",
    "        # Does hasRead correctly return true for a book in list already? Restart kernal\n",
    "\n",
    "        # Create Reader\n",
    "        r1 = BookLover('Ali', 'am4hb@virginia.edu', 'Fiction')\n",
    "        r1.addBook() # Enter book1 with any rating\n",
    "        r1.hasRead('book1') \n",
    "        \n",
    "    \n",
    "        # Test\n",
    "        self.assertEqual(r1.hasRead('book1'), True)\n",
    "        \n",
    "                   \n",
    "if __name__ == '__main__':\n",
    "    unittest.main(argv=['first-arg-is-ignored'],exit=False)        "
   ]
  },
  {
   "cell_type": "code",
   "execution_count": null,
   "metadata": {},
   "outputs": [],
   "source": [
    "## Import Base Class with all functions\n",
    "import unittest\n",
    "\n",
    "from BookLoverProject import *\n",
    "\n",
    "class HasReadTestCase(unittest.TestCase): # inherit from unittest.TestCase\n",
    "    # Unit testing count number of books in BookloverProject.py\n",
    "    \n",
    "    def test_has_read_false_correctly(self):\n",
    "        # Does hasRead correctly return false for a book not in list already? Restart kernal\n",
    "\n",
    "        # Create Reader\n",
    "        r1 = BookLover('Ali', 'am4hb@virginia.edu', 'Fiction')\n",
    "        r1.addBook() # Enter book1 with any rating\n",
    "        r1.hasRead('book2') \n",
    "        \n",
    "    \n",
    "        # Test\n",
    "        self.assertEqual(r1.hasRead('book2'), False)\n",
    "        \n",
    "                   \n",
    "if __name__ == '__main__':\n",
    "    unittest.main(argv=['first-arg-is-ignored'],exit=False)        "
   ]
  }
 ],
 "metadata": {
  "kernelspec": {
   "display_name": "Python 3",
   "language": "python",
   "name": "python3"
  },
  "language_info": {
   "codemirror_mode": {
    "name": "ipython",
    "version": 3
   },
   "file_extension": ".py",
   "mimetype": "text/x-python",
   "name": "python",
   "nbconvert_exporter": "python",
   "pygments_lexer": "ipython3",
   "version": "3.7.4"
  },
  "latex_envs": {
   "LaTeX_envs_menu_present": true,
   "autoclose": false,
   "autocomplete": true,
   "bibliofile": "biblio.bib",
   "cite_by": "apalike",
   "current_citInitial": 1,
   "eqLabelWithNumbers": true,
   "eqNumInitial": 1,
   "hotkeys": {
    "equation": "Ctrl-E",
    "itemize": "Ctrl-I"
   },
   "labels_anchors": false,
   "latex_user_defs": false,
   "report_style_numbering": false,
   "user_envs_cfg": false
  },
  "varInspector": {
   "cols": {
    "lenName": 16,
    "lenType": 16,
    "lenVar": 40
   },
   "kernels_config": {
    "python": {
     "delete_cmd_postfix": "",
     "delete_cmd_prefix": "del ",
     "library": "var_list.py",
     "varRefreshCmd": "print(var_dic_list())"
    },
    "r": {
     "delete_cmd_postfix": ") ",
     "delete_cmd_prefix": "rm(",
     "library": "var_list.r",
     "varRefreshCmd": "cat(var_dic_list()) "
    }
   },
   "types_to_exclude": [
    "module",
    "function",
    "builtin_function_or_method",
    "instance",
    "_Feature"
   ],
   "window_display": true
  }
 },
 "nbformat": 4,
 "nbformat_minor": 2
}
