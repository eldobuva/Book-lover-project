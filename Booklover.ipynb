{
 "cells": [
  {
   "cell_type": "code",
   "execution_count": null,
   "metadata": {},
   "outputs": [],
   "source": [
    "class BookLover:\n",
    "    def __init__(self, name, email, favGenre, numBooks = 0, bookLst = []):\n",
    "        self.name = name\n",
    "        self.email = email\n",
    "        self.favGenre = favGenre\n",
    "        self.numBooks = numBooks\n",
    "        self.bookLst = bookLst\n",
    "        \n",
    "    def __str__(self):\n",
    "        return 'Name: ' + self.name + '\\n' + 'Email: ' + self.email + '\\n' + 'Books read: ' + str(self.bookLst)\n",
    "        \n",
    "    def addBook(self, bookName='x', rating=0):\n",
    "        self.bookName=input('Input the book name: ')\n",
    "        z=0\n",
    "        while z==0:\n",
    "            k=0\n",
    "            for book in self.bookLst:\n",
    "                if book[0]==self.bookName:\n",
    "                    k=1    \n",
    "            if k==1:\n",
    "                self.bookName=input('This book already exists in the list! Input another book name: ')\n",
    "            else:\n",
    "                z=1\n",
    "        self.rating = int(input('Rate this book (0:\"Did not like the book\" to 5:\"Loved the book\"): '))    \n",
    "        while self.rating<0 or self.rating>5:\n",
    "            self.rating= int(input('Rate is not valid! (0:\"Did not like the book\" to 5:\"Loved the book\"). Rate again: ')) \n",
    "                 \n",
    "        record = (self.bookName, self.rating)\n",
    "        self.bookLst.append(record)\n",
    "        self.numBooks += 1    \n",
    "       \n",
    "                \n",
    "        \n",
    "    def hasRead(self, bookName):\n",
    "        check_list = []\n",
    "        for x in self.bookLst:\n",
    "            if x[0] == bookName:\n",
    "                check_list.append(True)\n",
    "            else:\n",
    "                check_list.append(False)\n",
    "        if True in check_list:\n",
    "            return True\n",
    "        else:\n",
    "            return False\n",
    "    \n",
    "    def numBooksRead(self):\n",
    "        return self.numBooks\n",
    "    \n",
    "    def favBooks(self):\n",
    "        top_books = []\n",
    "        for x in self.bookLst:\n",
    "            if x[1] > 3:\n",
    "                top_books.append(x[0])\n",
    "        return top_books"
   ]
  }
 ],
 "metadata": {
  "kernelspec": {
   "display_name": "Python 3",
   "language": "python",
   "name": "python3"
  },
  "language_info": {
   "codemirror_mode": {
    "name": "ipython",
    "version": 3
   },
   "file_extension": ".py",
   "mimetype": "text/x-python",
   "name": "python",
   "nbconvert_exporter": "python",
   "pygments_lexer": "ipython3",
   "version": "3.7.1"
  }
 },
 "nbformat": 4,
 "nbformat_minor": 2
}
