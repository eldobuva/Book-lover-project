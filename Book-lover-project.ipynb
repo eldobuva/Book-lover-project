{
 "cells": [
  {
   "cell_type": "code",
   "execution_count": 35,
   "metadata": {},
   "outputs": [],
   "source": [
    "class BookLover:\n",
    "    def __init__(self, name, email, favGenre, numBooks = 0, bookLst = []):\n",
    "        self.name = name\n",
    "        self.email = email\n",
    "        self.favGenre = favGenre\n",
    "        self.numBooks = numBooks\n",
    "        self.bookLst = bookLst\n",
    "        \n",
    "    def __str__(self):\n",
    "        return 'Name: ' + self.name + '\\n' + 'Email: ' + self.email + '\\n' + 'Books read: ' + str(self.bookLst)\n",
    "        \n",
    "    def addBook(self, bookName='x', rating=0):\n",
    "        self.bookName=input('Input the book name: ')\n",
    "        z=0\n",
    "        while z==0:\n",
    "            k=0\n",
    "            for book in self.bookLst:\n",
    "                if book[0]==self.bookName:\n",
    "                    k=1    \n",
    "            if k==1:\n",
    "                self.bookName=input('This book already exists in the list! Input another book name: ')\n",
    "            else:\n",
    "                z=1\n",
    "        self.rating = int(input('Rate this book (0:\"Did not like the book\" to 5:\"Loved the book\"): '))    \n",
    "        while self.rating<0 or self.rating>5:\n",
    "            self.rating= int(input('Rate is not valid! (0:\"Did not like the book\" to 5:\"Loved the book\"). Rate again: ')) \n",
    "                 \n",
    "        record = (self.bookName, self.rating)\n",
    "        self.bookLst.append(record)\n",
    "        self.numBooks += 1    \n",
    "\n",
    "#   def addBook(self, bookName, rating):\n",
    "#        title = bookName\n",
    "#        rating = int(rating)\n",
    "#        record = (bookName, rating)\n",
    "#        self.bookLst.append(record)\n",
    "#        self.numBooks += 1        \n",
    "                \n",
    "        \n",
    "    def hasRead(self, bookName):\n",
    "        check_list = []\n",
    "        for x in self.bookLst:\n",
    "            if x[0] == bookName:\n",
    "                check_list.append(True)\n",
    "            else:\n",
    "                check_list.append(False)\n",
    "        if True in check_list:\n",
    "            return True\n",
    "        else:\n",
    "            return False\n",
    "    \n",
    "    def numBooksRead(self):\n",
    "        return self.numBooks\n",
    "    \n",
    "    def favBooks(self):\n",
    "        top_books = []\n",
    "        for x in self.bookLst:\n",
    "            if x[1] > 3:\n",
    "                top_books.append(x[0])\n",
    "        return top_books"
   ]
  },
  {
   "cell_type": "code",
   "execution_count": 36,
   "metadata": {},
   "outputs": [],
   "source": [
    "P1=BookLover(\"Ali\", 'am4hb@virginia.edu', 'Fiction')"
   ]
  },
  {
   "cell_type": "code",
   "execution_count": 37,
   "metadata": {},
   "outputs": [
    {
     "name": "stdout",
     "output_type": "stream",
     "text": [
      "Input the book name: book1\n",
      "Rate this book (0:\"Did not like the book\" to 5:\"Loved the book\"): 1\n"
     ]
    }
   ],
   "source": [
    "P1.addBook()"
   ]
  },
  {
   "cell_type": "code",
   "execution_count": 38,
   "metadata": {},
   "outputs": [
    {
     "data": {
      "text/plain": [
       "[('book1', 1)]"
      ]
     },
     "execution_count": 38,
     "metadata": {},
     "output_type": "execute_result"
    }
   ],
   "source": [
    "P1.bookLst"
   ]
  },
  {
   "cell_type": "code",
   "execution_count": 39,
   "metadata": {},
   "outputs": [
    {
     "name": "stdout",
     "output_type": "stream",
     "text": [
      "Input the book name: book2\n",
      "Rate this book (0:\"Did not like the book\" to 5:\"Loved the book\"): 2\n"
     ]
    }
   ],
   "source": [
    "P1.addBook()"
   ]
  },
  {
   "cell_type": "code",
   "execution_count": 40,
   "metadata": {},
   "outputs": [
    {
     "data": {
      "text/plain": [
       "[('book1', 1), ('book2', 2)]"
      ]
     },
     "execution_count": 40,
     "metadata": {},
     "output_type": "execute_result"
    }
   ],
   "source": [
    "P1.bookLst"
   ]
  },
  {
   "cell_type": "code",
   "execution_count": 41,
   "metadata": {},
   "outputs": [
    {
     "name": "stdout",
     "output_type": "stream",
     "text": [
      "Input the book name: book3\n",
      "Rate this book (0:\"Did not like the book\" to 5:\"Loved the book\"): 5\n"
     ]
    }
   ],
   "source": [
    "P1.addBook()"
   ]
  },
  {
   "cell_type": "code",
   "execution_count": 42,
   "metadata": {},
   "outputs": [
    {
     "data": {
      "text/plain": [
       "[('book1', 1), ('book2', 2), ('book3', 5)]"
      ]
     },
     "execution_count": 42,
     "metadata": {},
     "output_type": "execute_result"
    }
   ],
   "source": [
    "P1.bookLst"
   ]
  },
  {
   "cell_type": "code",
   "execution_count": 43,
   "metadata": {},
   "outputs": [
    {
     "name": "stdout",
     "output_type": "stream",
     "text": [
      "Input the book name: book1\n",
      "This book already exists in the list! Input another book name: book3\n",
      "This book already exists in the list! Input another book name: book4\n",
      "Rate this book (0:\"Did not like the book\" to 5:\"Loved the book\"): 8\n",
      "Rate is not valid! (0:\"Did not like the book\" to 5:\"Loved the book\"). Rate again: 4\n"
     ]
    }
   ],
   "source": [
    "P1.addBook()"
   ]
  },
  {
   "cell_type": "code",
   "execution_count": 44,
   "metadata": {},
   "outputs": [
    {
     "data": {
      "text/plain": [
       "[('book1', 1), ('book2', 2), ('book3', 5), ('book4', 4)]"
      ]
     },
     "execution_count": 44,
     "metadata": {},
     "output_type": "execute_result"
    }
   ],
   "source": [
    "P1.bookLst"
   ]
  },
  {
   "cell_type": "code",
   "execution_count": 45,
   "metadata": {},
   "outputs": [
    {
     "data": {
      "text/plain": [
       "True"
      ]
     },
     "execution_count": 45,
     "metadata": {},
     "output_type": "execute_result"
    }
   ],
   "source": [
    "P1.hasRead('book1')"
   ]
  },
  {
   "cell_type": "code",
   "execution_count": 46,
   "metadata": {
    "scrolled": true
   },
   "outputs": [
    {
     "data": {
      "text/plain": [
       "False"
      ]
     },
     "execution_count": 46,
     "metadata": {},
     "output_type": "execute_result"
    }
   ],
   "source": [
    "P1.hasRead('book5')"
   ]
  },
  {
   "cell_type": "code",
   "execution_count": 47,
   "metadata": {},
   "outputs": [
    {
     "data": {
      "text/plain": [
       "4"
      ]
     },
     "execution_count": 47,
     "metadata": {},
     "output_type": "execute_result"
    }
   ],
   "source": [
    "P1.numBooksRead()"
   ]
  },
  {
   "cell_type": "code",
   "execution_count": 48,
   "metadata": {},
   "outputs": [
    {
     "data": {
      "text/plain": [
       "['book3', 'book4']"
      ]
     },
     "execution_count": 48,
     "metadata": {},
     "output_type": "execute_result"
    }
   ],
   "source": [
    "P1.favBooks()"
   ]
  }
 ],
 "metadata": {
  "kernelspec": {
   "display_name": "Python 3",
   "language": "python",
   "name": "python3"
  },
  "language_info": {
   "codemirror_mode": {
    "name": "ipython",
    "version": 3
   },
   "file_extension": ".py",
   "mimetype": "text/x-python",
   "name": "python",
   "nbconvert_exporter": "python",
   "pygments_lexer": "ipython3",
   "version": "3.7.4"
  }
 },
 "nbformat": 4,
 "nbformat_minor": 2
}
